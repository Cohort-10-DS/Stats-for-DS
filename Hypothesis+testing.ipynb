{
 "cells": [
  {
   "cell_type": "markdown",
   "metadata": {},
   "source": [
    "## The Problem\n",
    "\n",
    "25 students at Upgrad and Byte Academy each completed the Annual Data Science Exam 2017. The exam is score out of 50 and we want to understand if the test scores of the two groups are statistically significantly different. Use the two lists of scores provided and conduct a **two-sided t-test**.\n",
    "The following steps should be included:\n",
    "#### 1) Stating Null and alternative hypothesis\n",
    "#### 2) The t should be calcuated with a function\n",
    "#### 3) The conlusion should be written clearly outlining whether the null hypothesis was accepted or rejected"
   ]
  },
  {
   "cell_type": "code",
   "execution_count": 6,
   "metadata": {},
   "outputs": [],
   "source": [
    "import random\n",
    "from scipy import stats\n",
    "\n",
    "\n",
    "byte_scores = random.sample(range(5,50),25)\n",
    "upgrad_score = random.sample(range(0,50),25)"
   ]
  },
  {
   "cell_type": "code",
   "execution_count": null,
   "metadata": {},
   "outputs": [],
   "source": []
  },
  {
   "cell_type": "code",
   "execution_count": null,
   "metadata": {
    "collapsed": true
   },
   "outputs": [],
   "source": []
  }
 ],
 "metadata": {
  "kernelspec": {
   "display_name": "Python 3",
   "language": "python",
   "name": "python3"
  },
  "language_info": {
   "codemirror_mode": {
    "name": "ipython",
    "version": 3
   },
   "file_extension": ".py",
   "mimetype": "text/x-python",
   "name": "python",
   "nbconvert_exporter": "python",
   "pygments_lexer": "ipython3",
   "version": "3.6.1"
  }
 },
 "nbformat": 4,
 "nbformat_minor": 2
}
