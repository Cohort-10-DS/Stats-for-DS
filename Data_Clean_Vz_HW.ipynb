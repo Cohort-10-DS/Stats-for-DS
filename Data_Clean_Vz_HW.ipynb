{
 "cells": [
  {
   "cell_type": "markdown",
   "metadata": {},
   "source": [
    "1) Fix missing data for Hitters.csv, Wine_Student.csv and Adult.csv by\n",
    "- Dropping missing rows\n",
    "- Imputing with 0\n",
    "- Imputing with the correct mean value\n",
    "\n",
    "2) Identify dimension and summary of each data set\n",
    "
    "3) Visualize datset using matplotlib, searbon to better understand features (hint: correlation map,  but many more interesting visualizations possible)"
   ]
  },
  {
   "cell_type": "code",
   "execution_count": null,
   "metadata": {},
   "outputs": [],
   "source": []
  }
 ],
 "metadata": {
  "kernelspec": {
   "display_name": "Python 3",
   "language": "python",
   "name": "python3"
  },
  "language_info": {
   "codemirror_mode": {
    "name": "ipython",
    "version": 3
   },
   "file_extension": ".py",
   "mimetype": "text/x-python",
   "name": "python",
   "nbconvert_exporter": "python",
   "pygments_lexer": "ipython3",
   "version": "3.6.4"
  }
 },
 "nbformat": 4,
 "nbformat_minor": 2
}
